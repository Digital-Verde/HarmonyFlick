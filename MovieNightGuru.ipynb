{
  "nbformat": 4,
  "nbformat_minor": 0,
  "metadata": {
    "colab": {
      "provenance": [],
      "authorship_tag": "ABX9TyN7dCw84p4OrPmQ4mmYuCuD",
      "include_colab_link": true
    },
    "kernelspec": {
      "name": "python3",
      "display_name": "Python 3"
    },
    "language_info": {
      "name": "python"
    }
  },
  "cells": [
    {
      "cell_type": "markdown",
      "metadata": {
        "id": "view-in-github",
        "colab_type": "text"
      },
      "source": [
        "<a href=\"https://colab.research.google.com/github/Digital-Verde/HarmonyFlick/blob/main/MovieNightGuru.ipynb\" target=\"_parent\"><img src=\"https://colab.research.google.com/assets/colab-badge.svg\" alt=\"Open In Colab\"/></a>"
      ]
    },
    {
      "cell_type": "code",
      "execution_count": 1,
      "metadata": {
        "id": "tf3Lc54Bpy16"
      },
      "outputs": [],
      "source": [
        "# Instalando o SDK do Google\n",
        "!pip install -q -U google-generativeai"
      ]
    },
    {
      "cell_type": "code",
      "source": [
        "# Configurações iniciais\n",
        "import google.generativeai as genai\n",
        "\n",
        "from google.colab import userdata\n",
        "chave_api = userdata.get('SECRET_KEY')\n",
        "\n",
        "genai.configure(api_key=chave_api)\n",
        "\n",
        "# Função para obter informações sobre a pessoa a ser presenteada\n",
        "def obter_informacoes_pessoa(numero_pessoas):\n",
        "    \"\"\"Obtém informações sobre as pessoas a serem presenteadas.\"\"\"\n",
        "    pessoas = []\n",
        "    for i in range(numero_pessoas):\n",
        "        print(f\"\\nInformações da pessoa {i+1}:\")\n",
        "        idade = input(\"Idade: \")\n",
        "        sexo = input(\"Sexo: \")\n",
        "        interesses = input(\"Interesses e hobbies: \")\n",
        "        estilo = input(\"Estilo (clássico, moderno, esportivo, etc.): \")\n",
        "        personalidade = input(\"Personalidade (extrovertido, introvertido, criativo, etc.): \")\n",
        "        nao_gosta = input(\"O que ela NÃO gosta: \")\n",
        "        pessoas.append({\n",
        "            \"idade\": idade,\n",
        "            \"sexo\": sexo,\n",
        "            \"interesses\": interesses,\n",
        "            \"estilo\": estilo,\n",
        "            \"personalidade\": personalidade,\n",
        "            \"nao_gosta\": nao_gosta\n",
        "        })\n",
        "    return pessoas\n",
        "\n",
        "# Função para obter informações sobre o filme\n",
        "def obter_informacoes_filme():\n",
        "    \"\"\"Obtém informações sobre as preferências do filme.\"\"\"\n",
        "    genero = input(\"Gênero do filme: \")\n",
        "    classificacao_etaria = input(\"Classificação etária: \")\n",
        "    temas = input(\"Temas de interesse: \")\n",
        "    nao_gosta = input(\"O que vocês NÃO gostam em um filme: \")\n",
        "    return genero, classificacao_etaria, temas, nao_gosta\n",
        "\n",
        "# Configurações do modelo\n",
        "generation_config = {\n",
        "    \"candidate_count\": 1,\n",
        "    \"temperature\": 0.5,\n",
        "}\n",
        "\n",
        "safety_settings={\n",
        "    'HATE': 'BLOCK_NONE',\n",
        "    'HARASSMENT': 'BLOCK_NONE',\n",
        "    'SEXUAL' : 'BLOCK_NONE',\n",
        "    'DANGEROUS' : 'BLOCK_NONE'\n",
        "}\n",
        "\n",
        "model = genai.GenerativeModel(model_name='gemini-1.0-pro',\n",
        "                              generation_config=generation_config,\n",
        "                              safety_settings=safety_settings,)\n",
        "\n",
        "chat = model.start_chat(history=[])\n",
        "\n",
        "# Loop principal\n",
        "while True:\n",
        "    print(\"\\nOlá! Queremos te ajudar a escolher um filme! 🎉\")\n",
        "\n",
        "    numero_pessoas = int(input(\"Para quantas pessoas você está escolhendo o filme? \"))\n",
        "    pessoas = obter_informacoes_pessoa(numero_pessoas)\n",
        "    genero, classificacao_etaria, temas, nao_gosta_filme = obter_informacoes_filme()\n",
        "\n",
        "    # Cria o prompt com as informações das pessoas e do filme\n",
        "    prompt = f\"Preciso escolher um filme para {numero_pessoas} pessoas. \"\n",
        "    for i, pessoa in enumerate(pessoas):\n",
        "        prompt += f\"A pessoa {i+1} tem {pessoa['idade']} anos, é do sexo {pessoa['sexo']}, gosta de {pessoa['interesses']}, tem um estilo {pessoa['estilo']} e uma personalidade {pessoa['personalidade']}. Ela não gosta de {pessoa['nao_gosta']}. \"\n",
        "    prompt += f\"Em relação ao filme, estamos buscando um filme do gênero {genero}, com classificação etária {classificacao_etaria}, que explore os temas {temas}. Não gostamos de filmes com {nao_gosta_filme}. Poderia me indicar um filme que agrade a todos?\"\n",
        "\n",
        "    response = chat.send_message(prompt)\n",
        "    print(\"\\nSugestão de filme:\", response.text, '\\n')\n",
        "\n",
        "    continuar = input(\"Deseja buscar outro filme? (s/n): \")\n",
        "    if continuar.lower() != 's':\n",
        "        break\n",
        "\n",
        "print(\"Obrigado por usar o Chatbot de Filmes! 🍿\")"
      ],
      "metadata": {
        "colab": {
          "base_uri": "https://localhost:8080/",
          "height": 870
        },
        "id": "dmHpdTW1qYXv",
        "outputId": "1d6bf8ab-ede9-4759-be42-830e7e384a0a"
      },
      "execution_count": 17,
      "outputs": [
        {
          "output_type": "stream",
          "name": "stdout",
          "text": [
            "\n",
            "Olá! Queremos te ajudar a escolher um filme! 🎉\n",
            "Para quantas pessoas você está escolhendo o filme?  2\n",
            "\n",
            "Informações da pessoa 1:\n",
            "Idade: 41\n",
            "Sexo: f\n",
            "Interesses e hobbies: natureza alegria\n",
            "Estilo (clássico, moderno, esportivo, etc.): moderno\n",
            "Personalidade (extrovertido, introvertido, criativo, etc.): extrovertido\n",
            "O que ela NÃO gosta: terror\n",
            "\n",
            "Informações da pessoa 2:\n",
            "Idade: 49\n",
            "Sexo: m\n",
            "Interesses e hobbies: ficção cientifica tecnologia \n",
            "Estilo (clássico, moderno, esportivo, etc.): classico\n",
            "Personalidade (extrovertido, introvertido, criativo, etc.): introvertido\n",
            "O que ela NÃO gosta: roance\n",
            "Gênero do filme: ação comedia\n",
            "Classificação etária: 18\n",
            "Temas de interesse: tecnologia\n",
            "O que vocês NÃO gostam em um filme: romance\n",
            "\n",
            "Sugestão de filme: **Free Guy: Assumindo o Controle (2021)**\n",
            "\n",
            "* **Gênero:** Ação, Comédia\n",
            "* **Classificação etária:** 18\n",
            "* **Temas:** Tecnologia, Realidade Virtual, Inteligência Artificial\n",
            "\n",
            "**Razões pelas quais o filme pode agradar a ambos:**\n",
            "\n",
            "* **Para a Pessoa 1 (41 anos, F):**\n",
            "    * O filme apresenta um mundo vibrante e divertido, com muita natureza e alegria.\n",
            "    * O estilo moderno do filme e o personagem principal extrovertido podem se conectar com sua personalidade.\n",
            "    * Ele não contém elementos de terror.\n",
            "\n",
            "* **Para a Pessoa 2 (49 anos, M):**\n",
            "    * O filme explora temas de ficção científica e tecnologia, que são de seu interesse.\n",
            "    * O estilo clássico do filme e o personagem principal introvertido podem ressoar com sua personalidade.\n",
            "    * Ele não contém elementos de romance.\n",
            "\n",
            "**Sinopse:**\n",
            "\n",
            "Free Guy é uma comédia de ação sobre um caixa de banco chamado Guy (Ryan Reynolds) que descobre que é um personagem não-jogador em um videogame de mundo aberto. Com a ajuda de uma jogadora (Jodie Comer), ele decide assumir o controle de sua própria vida e lutar contra os criadores do jogo. \n",
            "\n",
            "Deseja buscar outro filme? (s/n): n\n",
            "Obrigado por usar o Chatbot de Filmes! 🍿\n"
          ]
        }
      ]
    }
  ]
}